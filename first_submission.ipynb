{
  "cells": [
    {
      "cell_type": "code",
      "execution_count": 42,
      "metadata": {
        "colab": {
          "base_uri": "https://localhost:8080/"
        },
        "id": "Q66pE4aIG0bb",
        "outputId": "dff543cd-2b65-4da4-9647-b47681d61b13"
      },
      "outputs": [
        {
          "name": "stderr",
          "output_type": "stream",
          "text": [
            "/usr/local/lib/python3.10/dist-packages/sklearn/base.py:486: UserWarning: X has feature names, but DecisionTreeClassifier was fitted without feature names\n",
            "  warnings.warn(\n",
            "/usr/local/lib/python3.10/dist-packages/sklearn/base.py:486: UserWarning: X has feature names, but DecisionTreeClassifier was fitted without feature names\n",
            "  warnings.warn(\n"
          ]
        }
      ],
      "source": [
        "import numpy as np\n",
        "import pandas as pd\n",
        "from time import time\n",
        "import sklearn.preprocessing\n",
        "import sklearn\n",
        "from sklearn.preprocessing import MinMaxScaler\n",
        "from sklearn.preprocessing import LabelEncoder\n",
        "from sklearn.tree import DecisionTreeClassifier\n",
        "from sklearn.metrics import f1_score\n",
        "from sklearn.metrics import confusion_matrix\n",
        "\n",
        "\n",
        "\n",
        "x_train = pd.read_csv(\"train.csv\")\n",
        "x_test = pd.read_csv(\"test.csv\")\n",
        "y_train = pd.read_csv(\"labels.csv\")\n",
        "\n",
        "x_train = x_train.sample(frac=0.05, random_state=42).reset_index(drop=True)\n",
        "y_train = y_train.loc[x_train.index].reset_index(drop=True)\n",
        "\n",
        "#x_train, x_test = x_train.drop(['Age_Group']), x_test.drop(['Age_Group'])\n",
        "\n",
        "\n",
        "def feature_encoding(X):\n",
        "\n",
        "    non_numerical_columns_names = X.select_dtypes(exclude=['number']).columns\n",
        "\n",
        "    for column in non_numerical_columns_names:\n",
        "        le = LabelEncoder()\n",
        "        X[column] = le.fit_transform(X[column])\n",
        "\n",
        "    return X\n",
        "\n",
        "def normalize_features(X_train, X_test):\n",
        "\n",
        "    scaler = MinMaxScaler()\n",
        "    X_train_scaled = scaler.fit_transform(X_train)\n",
        "    X_test_scaled = scaler.transform(X_test)\n",
        "\n",
        "    return X_train_scaled, X_test_scaled\n",
        "\n",
        "x_train, x_test = feature_encoding(x_train), feature_encoding(x_test)\n",
        "\n",
        "x_train_scaled, x_test_scaled = normalize_features(x_train, x_test)\n",
        "\n",
        "model = DecisionTreeClassifier()\n",
        "\n",
        "model.fit(x_train_scaled, y_train)\n",
        "\n",
        "y_train_pred = model.predict(x_train)\n",
        "y_test_pred = model.predict(x_test)\n",
        "\n",
        "\n",
        "train_f1 = f1_score(y_train[\"Diabetes_binary\"], y_train_pred[:,1])\n",
        "\n",
        "confusion_matrix_train = confusion_matrix(y_train[\"Diabetes_binary\"], y_train_pred[:,1])\n",
        "\n",
        "#print(f\"Training score for the model is {train_f1} and the confusion matrix is {confusion_matrix_train}\")\n",
        "\n",
        "df_output=pd.DataFrame(y_test_pred, columns=['index',\"Diabetes_binary\"])\n",
        "\n",
        "df_output.to_csv('./submission.csv', index=False)\n",
        "\n",
        "\n"
      ]
    }
  ],
  "metadata": {
    "accelerator": "GPU",
    "colab": {
      "gpuType": "A100",
      "machine_shape": "hm",
      "provenance": []
    },
    "kernelspec": {
      "display_name": "Python 3",
      "name": "python3"
    },
    "language_info": {
      "name": "python"
    }
  },
  "nbformat": 4,
  "nbformat_minor": 0
}
