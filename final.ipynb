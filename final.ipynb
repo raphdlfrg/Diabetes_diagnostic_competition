{
 "cells": [
  {
   "cell_type": "code",
   "execution_count": 10,
   "id": "initial_id",
   "metadata": {
    "collapsed": true,
    "ExecuteTime": {
     "end_time": "2024-12-08T01:28:09.510044Z",
     "start_time": "2024-12-08T01:28:09.483448Z"
    }
   },
   "outputs": [],
   "source": [
    "# Loading required libraries and fixing the seed\n",
    "import pandas as pd\n",
    "import numpy as np\n",
    "from sklearn.model_selection import StratifiedKFold, GridSearchCV\n",
    "from sklearn.preprocessing import StandardScaler, LabelEncoder\n",
    "from sklearn.linear_model import LogisticRegression\n",
    "from sklearn.metrics import f1_score, classification_report\n",
    "\n",
    "SEED = 1\n",
    "np.random.seed(SEED)"
   ]
  },
  {
   "cell_type": "code",
   "execution_count": 11,
   "outputs": [],
   "source": [
    "# Loading dataset & preprocessing the data\n",
    "train_data = pd.read_csv('train.csv')\n",
    "labels_data = pd.read_csv('labels.csv')\n",
    "test_data = pd.read_csv('test.csv')\n",
    "\n",
    "# Removing useless features\n",
    "X_train = train_data.drop(columns=['Unnamed: 0', 'Age_Group'])\n",
    "y_train = labels_data['Diabetes_binary']\n",
    "X_test = test_data.drop(columns=['Unnamed: 0', 'Age_Group'])\n",
    "\n",
    "# Encoding non-numerical features\n",
    "def feature_encoding(X):\n",
    "    non_numerical_columns_names = X.select_dtypes(exclude=['number']).columns\n",
    "    for column in non_numerical_columns_names:\n",
    "        le = LabelEncoder()\n",
    "        X[column] = le.fit_transform(X[column])\n",
    "    return X\n",
    "\n",
    "X_train = feature_encoding(X_train)\n",
    "X_test = feature_encoding(X_test)\n",
    "\n",
    "\n",
    "# Normalizing features\n",
    "scaler = StandardScaler()\n",
    "X_train = scaler.fit_transform(X_train)\n",
    "X_test = scaler.transform(X_test)"
   ],
   "metadata": {
    "collapsed": false,
    "ExecuteTime": {
     "end_time": "2024-12-08T01:28:10.926411Z",
     "start_time": "2024-12-08T01:28:09.493329Z"
    }
   },
   "id": "76d528b8c1fb1d7f"
  },
  {
   "cell_type": "code",
   "execution_count": 12,
   "outputs": [],
   "source": [
    "# Implementing functions used for the GridSearch\n",
    "\n",
    "def custom_f1_threshold(estimator, X, y, threshold=0.5):\n",
    "    \"\"\"\n",
    "    Compute the F1-score with non-default threshold values\n",
    "    \"\"\"\n",
    "    probs = estimator.predict_proba(X)[:, 1]\n",
    "    preds = (probs >= threshold).astype(int)\n",
    "    return f1_score(y, preds)\n",
    "\n",
    "\n",
    "def find_best_params_for_thresholds(model, X_train, y_train, params, thresholds):\n",
    "    \"\"\"\n",
    "    Perform GridSearch with non-default threshold values\n",
    "    \"\"\"\n",
    "    # Implementing Cross validation\n",
    "    strat_kfold = StratifiedKFold(n_splits=5, shuffle=True, random_state=SEED)\n",
    "    \n",
    "    results = []\n",
    "\n",
    "    for threshold in thresholds:\n",
    "        print(\"\\nThreshold:\", threshold)\n",
    "        # grid_search = GridSearchCV(model, param_grid=params, scoring=lambda est, X, y: custom_f1_threshold(est, X, y, threshold), cv=strat_kfold)\n",
    "        grid_search = GridSearchCV(model, param_grid=params, scoring=lambda est, X, y: custom_f1_threshold(est, X, y, threshold), cv=strat_kfold)\n",
    "        grid_search.fit(X_train, y_train)\n",
    "\n",
    "        best_params = grid_search.best_params_\n",
    "        best_score = grid_search.best_score_\n",
    "\n",
    "        print(\"Best parameters:\", best_params)\n",
    "        print(\"Best F1-Score:\", best_score)\n",
    "\n",
    "        results.append({'threshold': threshold, 'best_params': best_params, 'best_score': best_score})\n",
    "\n",
    "    return results"
   ],
   "metadata": {
    "collapsed": false,
    "ExecuteTime": {
     "end_time": "2024-12-08T01:28:10.937821Z",
     "start_time": "2024-12-08T01:28:10.926577Z"
    }
   },
   "id": "ff11bfe25294461f"
  },
  {
   "cell_type": "code",
   "execution_count": 13,
   "outputs": [
    {
     "name": "stdout",
     "output_type": "stream",
     "text": [
      "\n",
      "Threshold: 0.600204081632653\n",
      "Best parameters: {'C': 0.0095, 'class_weight': 'balanced', 'l1_ratio': 0.55, 'penalty': 'elasticnet', 'solver': 'saga'}\n",
      "Best F1-Score: 0.4570503085453055\n"
     ]
    }
   ],
   "source": [
    "# Performing the GridSearch\n",
    "param_grid = {\n",
    "    'C': [0.005, 0.0095, 0.01, 0.02],\n",
    "    'penalty': ['elasticnet'],\n",
    "    'solver': ['saga'],\n",
    "    'l1_ratio': [0.45, 0.5, 0.55],\n",
    "    'class_weight': ['balanced'],\n",
    "}\n",
    "\n",
    "cls = LogisticRegression(random_state=SEED)\n",
    "threshold = np.linspace(0.595, 0.61, 10)\n",
    "threshold = [0.600204081632653]\n",
    "results = find_best_params_for_thresholds(cls, X_train, y_train, param_grid, threshold)"
   ],
   "metadata": {
    "collapsed": false,
    "ExecuteTime": {
     "end_time": "2024-12-08T01:30:04.206580Z",
     "start_time": "2024-12-08T01:28:10.940766Z"
    }
   },
   "id": "b65426b287f75466"
  },
  {
   "cell_type": "code",
   "execution_count": 14,
   "outputs": [
    {
     "name": "stdout",
     "output_type": "stream",
     "text": [
      "\n",
      "\n",
      " ++++++++++++++++++++++++++++++++++++++++ \n",
      " Best Score is 0.4570503085453055\n",
      "Threshold is 0.600204081632653\n",
      "{'threshold': 0.600204081632653, 'best_params': {'C': 0.0095, 'class_weight': 'balanced', 'l1_ratio': 0.55, 'penalty': 'elasticnet', 'solver': 'saga'}, 'best_score': 0.4570503085453055}\n"
     ]
    }
   ],
   "source": [
    "# Extracting the best combinaison\n",
    "best_f1_score = 0\n",
    "best_index = 0\n",
    "for i in range(len(results)):\n",
    "    best = results[i]['best_score']\n",
    "    if best > best_f1_score:\n",
    "        best_f1_score = best\n",
    "        best_index = i\n",
    "\n",
    "best_results = results[best_index]\n",
    "print(\"\\n\\n ++++++++++++++++++++++++++++++++++++++++ \\n Best Score is\", best_f1_score)\n",
    "print(\"Threshold is\", best_results['threshold'])\n",
    "print(best_results)\n",
    "\n",
    "threshold = best_results['threshold']\n",
    "best_params = best_results['best_params']"
   ],
   "metadata": {
    "collapsed": false,
    "ExecuteTime": {
     "end_time": "2024-12-08T01:30:04.209210Z",
     "start_time": "2024-12-08T01:30:04.204893Z"
    }
   },
   "id": "f5d189225d39e574"
  },
  {
   "cell_type": "code",
   "execution_count": 15,
   "outputs": [],
   "source": [
    "# Training the model with the best hyperparameters\n",
    "model = LogisticRegression(**best_params, random_state=SEED)\n",
    "model.fit(X_train, y_train)\n",
    "\n",
    "# Predict probabilities with the custom threshold\n",
    "y_train_probs = model.predict_proba(X_train)[:, 1]\n",
    "y_train_pred = (y_train_probs >= threshold).astype(int)"
   ],
   "metadata": {
    "collapsed": false,
    "ExecuteTime": {
     "end_time": "2024-12-08T01:30:06.172502Z",
     "start_time": "2024-12-08T01:30:04.206199Z"
    }
   },
   "id": "9e07fbf28a0861ae"
  },
  {
   "cell_type": "code",
   "execution_count": 16,
   "outputs": [
    {
     "name": "stdout",
     "output_type": "stream",
     "text": [
      "F1-Score on training set for threshold 0.60: 0.46\n",
      "Classification Report:\n",
      "              precision    recall  f1-score   support\n",
      "\n",
      "           0       0.93      0.81      0.87    174595\n",
      "           1       0.35      0.64      0.46     28349\n",
      "\n",
      "    accuracy                           0.79    202944\n",
      "   macro avg       0.64      0.73      0.66    202944\n",
      "weighted avg       0.85      0.79      0.81    202944\n"
     ]
    }
   ],
   "source": [
    "# Evaluation on training set\n",
    "f1 = f1_score(y_train, y_train_pred)\n",
    "report = classification_report(y_train, y_train_pred, output_dict=True)\n",
    "\n",
    "print(f\"F1-Score on training set for threshold {threshold:.2f}: {f1:.2f}\")\n",
    "print(\"Classification Report:\")\n",
    "print(classification_report(y_train, y_train_pred))"
   ],
   "metadata": {
    "collapsed": false,
    "ExecuteTime": {
     "end_time": "2024-12-08T01:30:06.761061Z",
     "start_time": "2024-12-08T01:30:06.172788Z"
    }
   },
   "id": "7e8ca71d7eef452f"
  },
  {
   "cell_type": "code",
   "execution_count": 17,
   "outputs": [],
   "source": [
    "# Predicting probabilities on the test set\n",
    "y_test_probs = model.predict_proba(X_test)[:, 1]\n",
    "y_test_pred = (y_test_probs >= threshold).astype(int)"
   ],
   "metadata": {
    "collapsed": false,
    "ExecuteTime": {
     "end_time": "2024-12-08T01:30:06.776809Z",
     "start_time": "2024-12-08T01:30:06.759662Z"
    }
   },
   "id": "1be906d881eec03d"
  },
  {
   "cell_type": "code",
   "execution_count": 18,
   "outputs": [
    {
     "name": "stdout",
     "output_type": "stream",
     "text": [
      "Predictions saved to 'test_predictionsLogReg2.csv'\n"
     ]
    }
   ],
   "source": [
    "# Saving predictions in a .csv file for the Kaggle submission\n",
    "\n",
    "y_test_pred = pd.DataFrame(y_test_pred, columns=['Diabetes_binary'], index=test_data['Unnamed: 0'])\n",
    "y_test_pred.index.name = 'index'\n",
    "#y_test_pred.to_csv(\"test_predictionsLogReg2.csv\", index=True)\n",
    "\n",
    "print(f\"Predictions saved to 'test_predictionsLogReg2.csv'\")"
   ],
   "metadata": {
    "collapsed": false,
    "ExecuteTime": {
     "end_time": "2024-12-08T01:30:06.778116Z",
     "start_time": "2024-12-08T01:30:06.773426Z"
    }
   },
   "id": "f66e990030fb1f2f"
  }
 ],
 "metadata": {
  "kernelspec": {
   "display_name": "Python 3",
   "language": "python",
   "name": "python3"
  },
  "language_info": {
   "codemirror_mode": {
    "name": "ipython",
    "version": 2
   },
   "file_extension": ".py",
   "mimetype": "text/x-python",
   "name": "python",
   "nbconvert_exporter": "python",
   "pygments_lexer": "ipython2",
   "version": "2.7.6"
  }
 },
 "nbformat": 4,
 "nbformat_minor": 5
}
