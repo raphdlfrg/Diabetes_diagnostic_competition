{
 "cells": [
  {
   "cell_type": "code",
   "execution_count": 10,
   "id": "initial_id",
   "metadata": {
    "collapsed": true,
    "ExecuteTime": {
     "end_time": "2024-12-07T00:13:56.048331Z",
     "start_time": "2024-12-07T00:13:56.018192Z"
    }
   },
   "outputs": [],
   "source": [
    "# Loading required libraries and fixing the seed\n",
    "import pandas as pd\n",
    "import numpy as np\n",
    "from sklearn.model_selection import StratifiedKFold, GridSearchCV\n",
    "from sklearn.preprocessing import StandardScaler, LabelEncoder\n",
    "from sklearn.linear_model import LogisticRegression\n",
    "from sklearn.metrics import f1_score, classification_report\n",
    "\n",
    "SEED = 1\n",
    "np.random.seed(SEED)"
   ]
  },
  {
   "cell_type": "code",
   "execution_count": 11,
   "outputs": [],
   "source": [
    "# Loading dataset & preprocessing the data\n",
    "train_data = pd.read_csv('data/train.csv')\n",
    "labels_data = pd.read_csv('data/labels.csv')\n",
    "test_data = pd.read_csv('data/test.csv')\n",
    "\n",
    "# Removing useless features\n",
    "X_train = train_data.drop(columns=['Unnamed: 0', 'Age_Group'])\n",
    "y_train = labels_data['Diabetes_binary']\n",
    "X_test = test_data.drop(columns=['Unnamed: 0', 'Age_Group'])\n",
    "\n",
    "# Encoding non-numerical features\n",
    "def feature_encoding(X):\n",
    "    non_numerical_columns_names = X.select_dtypes(exclude=['number']).columns\n",
    "    for column in non_numerical_columns_names:\n",
    "        le = LabelEncoder()\n",
    "        X[column] = le.fit_transform(X[column])\n",
    "    return X\n",
    "\n",
    "X_train = feature_encoding(X_train)\n",
    "X_test = feature_encoding(X_test)\n",
    "\n",
    "\n",
    "# Normalizing features\n",
    "scaler = StandardScaler()\n",
    "X_train = scaler.fit_transform(X_train)\n",
    "X_test = scaler.transform(X_test)"
   ],
   "metadata": {
    "collapsed": false,
    "ExecuteTime": {
     "end_time": "2024-12-07T00:13:57.375742Z",
     "start_time": "2024-12-07T00:13:56.027092Z"
    }
   },
   "id": "76d528b8c1fb1d7f"
  },
  {
   "cell_type": "code",
   "execution_count": 12,
   "outputs": [],
   "source": [
    "# Implementing functions used for the GridSearch\n",
    "\n",
    "def custom_f1_threshold(estimator, X, y, threshold=0.5):\n",
    "    \"\"\"\n",
    "    Compute the F1-score with non-default threshold values\n",
    "    \"\"\"\n",
    "    probs = estimator.predict_proba(X)[:, 1]\n",
    "    preds = (probs >= threshold).astype(int)\n",
    "    return f1_score(y, preds)\n",
    "\n",
    "\n",
    "def find_best_params_for_thresholds(model, X_train, y_train, params, thresholds):\n",
    "    \"\"\"\n",
    "    Perform GridSearch with non-default threshold values\n",
    "    \"\"\"\n",
    "    # Implementing Cross validation\n",
    "    strat_kfold = StratifiedKFold(n_splits=5, shuffle=True, random_state=SEED)\n",
    "    \n",
    "    results = []\n",
    "\n",
    "    for threshold in thresholds:\n",
    "        print(\"\\nThreshold:\", threshold)\n",
    "        # grid_search = GridSearchCV(model, param_grid=params, scoring=lambda est, X, y: custom_f1_threshold(est, X, y, threshold), cv=strat_kfold)\n",
    "        grid_search = GridSearchCV(model, param_grid=params, scoring=lambda est, X, y: custom_f1_threshold(est, X, y, threshold), cv=strat_kfold)\n",
    "        grid_search.fit(X_train, y_train)\n",
    "\n",
    "        best_params = grid_search.best_params_\n",
    "        best_score = grid_search.best_score_\n",
    "\n",
    "        print(\"Best parameters:\", best_params)\n",
    "        print(\"Best F1-Score:\", best_score)\n",
    "\n",
    "        results.append({'threshold': threshold, 'best_params': best_params, 'best_score': best_score})\n",
    "\n",
    "    return results"
   ],
   "metadata": {
    "collapsed": false,
    "ExecuteTime": {
     "end_time": "2024-12-07T00:13:57.385114Z",
     "start_time": "2024-12-07T00:13:57.374778Z"
    }
   },
   "id": "ff11bfe25294461f"
  },
  {
   "cell_type": "code",
   "execution_count": null,
   "outputs": [
    {
     "name": "stdout",
     "output_type": "stream",
     "text": [
      "\n",
      "Threshold: 0.595\n"
     ]
    }
   ],
   "source": [
    "# Performing the GridSearch\n",
    "param_grid = {\n",
    "    'C': [0.005, 0.0095, 0.01, 0.02],\n",
    "    'penalty': ['elasticnet'],\n",
    "    'solver': ['saga'],\n",
    "    'l1_ratio': [0.45, 0.5, 0.55],\n",
    "    'class_weight': ['balanced'],\n",
    "}\n",
    "\n",
    "cls = LogisticRegression(random_state=SEED)\n",
    "threshold = np.linspace(0.595, 0.61, 10)\n",
    "results = find_best_params_for_thresholds(cls, X_train, y_train, param_grid, threshold)"
   ],
   "metadata": {
    "collapsed": false,
    "is_executing": true,
    "ExecuteTime": {
     "start_time": "2024-12-07T00:13:57.385702Z"
    }
   },
   "id": "b65426b287f75466"
  },
  {
   "cell_type": "code",
   "execution_count": null,
   "outputs": [],
   "source": [
    "# Extracting the best combinaison\n",
    "best_f1_score = 0\n",
    "best_index = 0\n",
    "for i in range(len(results)):\n",
    "    best = results[i]['best_score']\n",
    "    if best > best_f1_score:\n",
    "        best_f1_score = best\n",
    "        best_index = i\n",
    "\n",
    "best_results = results[best_index]\n",
    "print(\"\\n\\n ++++++++++++++++++++++++++++++++++++++++ \\n Best Score is\", best_f1_score)\n",
    "print(\"Threshold is\", best_results['threshold'])\n",
    "print(best_results)\n",
    "\n",
    "threshold = best_results['threshold']\n",
    "best_params = best_results['best_params']"
   ],
   "metadata": {
    "collapsed": false,
    "is_executing": true
   },
   "id": "f5d189225d39e574"
  },
  {
   "cell_type": "code",
   "execution_count": null,
   "outputs": [],
   "source": [
    "# Training the model with the best hyperparameters\n",
    "model = LogisticRegression(**best_params, random_state=SEED)\n",
    "model.fit(X_train, y_train)\n",
    "\n",
    "# Predict probabilities with the custom threshold\n",
    "y_train_probs = model.predict_proba(X_train)[:, 1]\n",
    "y_train_pred = (y_train_probs >= threshold).astype(int)"
   ],
   "metadata": {
    "collapsed": false,
    "is_executing": true
   },
   "id": "9e07fbf28a0861ae"
  },
  {
   "cell_type": "code",
   "execution_count": null,
   "outputs": [],
   "source": [
    "# Evaluation on training set\n",
    "f1 = f1_score(y_train, y_train_pred)\n",
    "report = classification_report(y_train, y_train_pred, output_dict=True)\n",
    "\n",
    "print(f\"F1-Score on training set for threshold {threshold:.2f}: {f1:.2f}\")\n",
    "print(\"Classification Report:\")\n",
    "print(classification_report(y_train, y_train_pred))"
   ],
   "metadata": {
    "collapsed": false,
    "is_executing": true
   },
   "id": "7e8ca71d7eef452f"
  },
  {
   "cell_type": "code",
   "execution_count": null,
   "outputs": [],
   "source": [
    "# Predicting probabilities on the test set\n",
    "y_test_probs = model.predict_proba(X_test)[:, 1]\n",
    "y_test_pred = (y_test_probs >= threshold).astype(int)"
   ],
   "metadata": {
    "collapsed": false,
    "is_executing": true
   },
   "id": "1be906d881eec03d"
  },
  {
   "cell_type": "code",
   "execution_count": null,
   "outputs": [],
   "source": [
    "# Saving predictions in a .csv file for the Kaggle submission\n",
    "\n",
    "y_test_pred = pd.DataFrame(y_test_pred, columns=['Diabetes_binary'], index=test_data['Unnamed: 0'])\n",
    "y_test_pred.index.name = 'index'\n",
    "y_test_pred.to_csv(\"test_predictionsLogReg2.csv\", index=True)\n",
    "\n",
    "print(f\"Predictions saved to 'test_predictionsLogReg2.csv'\")"
   ],
   "metadata": {
    "collapsed": false,
    "is_executing": true
   },
   "id": "f66e990030fb1f2f"
  }
 ],
 "metadata": {
  "kernelspec": {
   "display_name": "Python 3",
   "language": "python",
   "name": "python3"
  },
  "language_info": {
   "codemirror_mode": {
    "name": "ipython",
    "version": 2
   },
   "file_extension": ".py",
   "mimetype": "text/x-python",
   "name": "python",
   "nbconvert_exporter": "python",
   "pygments_lexer": "ipython2",
   "version": "2.7.6"
  }
 },
 "nbformat": 4,
 "nbformat_minor": 5
}
